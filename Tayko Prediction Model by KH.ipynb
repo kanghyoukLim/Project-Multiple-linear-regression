{
 "cells": [
  {
   "cell_type": "markdown",
   "id": "61dff576-39af-40d3-ae44-a3bf59ae5528",
   "metadata": {},
   "source": [
    "# 소프트웨어 재판매 이익예측 form Tayko by KH"
   ]
  },
  {
   "cell_type": "markdown",
   "id": "fc30b070-206b-40ea-a078-9aa3e6592c12",
   "metadata": {},
   "source": [
    "## 라이브러리 임포트"
   ]
  },
  {
   "cell_type": "code",
   "execution_count": 1,
   "id": "7b0962fa-0a3f-451f-a1a9-16a53661d829",
   "metadata": {},
   "outputs": [],
   "source": [
    "from pathlib import Path\n",
    "\n",
    "import pandas as pd\n",
    "from sklearn.model_selection import train_test_split\n",
    "from sklearn.linear_model import LinearRegression, Lasso, Ridge, LassoCV, BayesianRidge\n",
    "import statsmodels.formula.api as sm\n",
    "import matplotlib.pylab as plt\n",
    "\n",
    "import dmba\n",
    "from dmba import regressionSummary, exhaustive_search\n",
    "from dmba import backward_elimination, forward_selection, stepwise_selection\n",
    "from dmba import adjusted_r2_score, AIC_score, BIC_score\n",
    "\n",
    "%matplotlib inline\n"
   ]
  },
  {
   "cell_type": "markdown",
   "id": "40888703-a1bc-49fc-83a0-fcbcc6fbc540",
   "metadata": {},
   "source": [
    "## 데이타프레임 생성 및 변수 정리"
   ]
  },
  {
   "cell_type": "code",
   "execution_count": 2,
   "id": "5804f4d0-c39e-4a22-9d1c-5e7d6601cf4c",
   "metadata": {},
   "outputs": [],
   "source": [
    "soft_df = dmba.load_data('tayko.csv')\n",
    "soft_df = soft_df.iloc[0:2000]"
   ]
  },
  {
   "cell_type": "code",
   "execution_count": 3,
   "id": "fc88e2f9-82f2-4d92-a775-80ae6e1291c3",
   "metadata": {},
   "outputs": [
    {
     "name": "stdout",
     "output_type": "stream",
     "text": [
      "Web order\n"
     ]
    }
   ],
   "source": [
    "print(soft_df.columns.values[20])"
   ]
  },
  {
   "cell_type": "code",
   "execution_count": 4,
   "id": "50498620-d1b3-49ca-aa03-fb0c3ed674ae",
   "metadata": {},
   "outputs": [],
   "source": [
    "# 컬럼 이름 바꾸기\n",
    "soft_df.columns.values[20] = 'Web_order'\n",
    "soft_df.columns.values[21] = 'Gender_male'\n"
   ]
  },
  {
   "cell_type": "code",
   "execution_count": 5,
   "id": "7e5a38d8-eb10-4a39-bc1f-15f154d85ef5",
   "metadata": {},
   "outputs": [
    {
     "name": "stdout",
     "output_type": "stream",
     "text": [
      "      sequence_number  US  source_a  source_c  source_b  source_d  source_e  \\\n",
      "0                   1   1         0         0         1         0         0   \n",
      "1                   2   1         0         0         0         0         1   \n",
      "2                   3   1         0         0         0         0         0   \n",
      "3                   4   1         0         1         0         0         0   \n",
      "4                   5   1         0         1         0         0         0   \n",
      "...               ...  ..       ...       ...       ...       ...       ...   \n",
      "1995             1996   1         0         0         0         0         0   \n",
      "1996             1997   1         0         0         0         0         0   \n",
      "1997             1998   1         0         0         0         0         0   \n",
      "1998             1999   1         0         0         0         0         0   \n",
      "1999             2000   1         0         0         0         0         0   \n",
      "\n",
      "      source_m  source_o  source_h  ...  source_x  source_w  Freq  \\\n",
      "0            0         0         0  ...         0         0     2   \n",
      "1            0         0         0  ...         0         0     0   \n",
      "2            0         0         0  ...         0         0     2   \n",
      "3            0         0         0  ...         0         0     1   \n",
      "4            0         0         0  ...         0         0     1   \n",
      "...        ...       ...       ...  ...       ...       ...   ...   \n",
      "1995         0         0         0  ...         0         0     1   \n",
      "1996         0         0         0  ...         0         0     1   \n",
      "1997         0         0         0  ...         0         0     0   \n",
      "1998         0         0         0  ...         0         1     1   \n",
      "1999         0         0         0  ...         0         0     1   \n",
      "\n",
      "      last_update_days_ago  1st_update_days_ago  Web_order  Gender_male  \\\n",
      "0                     3662                 3662          1            0   \n",
      "1                     2900                 2900          1            1   \n",
      "2                     3883                 3914          0            0   \n",
      "3                      829                  829          0            1   \n",
      "4                      869                  869          0            0   \n",
      "...                    ...                  ...        ...          ...   \n",
      "1995                  1701                 1701          1            0   \n",
      "1996                  2633                 2633          1            1   \n",
      "1997                  3394                 3394          0            0   \n",
      "1998                   253                  253          0            1   \n",
      "1999                  1261                 1844          0            0   \n",
      "\n",
      "      Address_is_res  Purchase  Spending  \n",
      "0                  1         1       128  \n",
      "1                  0         0         0  \n",
      "2                  0         1       127  \n",
      "3                  0         0         0  \n",
      "4                  0         0         0  \n",
      "...              ...       ...       ...  \n",
      "1995               0         1        30  \n",
      "1996               0         1        10  \n",
      "1997               0         0         0  \n",
      "1998               1         0         0  \n",
      "1999               0         0         0  \n",
      "\n",
      "[2000 rows x 25 columns]\n"
     ]
    }
   ],
   "source": [
    "print(soft_df)"
   ]
  },
  {
   "cell_type": "code",
   "execution_count": 6,
   "id": "8c8ef113-df77-4fc7-9bd8-da16d794540c",
   "metadata": {},
   "outputs": [],
   "source": [
    "# 컬럼 삭제 \n",
    "soft_df.drop(['source_a','source_c','source_b','source_d','source_e'], axis=1, inplace=True)"
   ]
  },
  {
   "cell_type": "code",
   "execution_count": 7,
   "id": "3484967a-8ed0-43af-9e8f-2cfc170ffacb",
   "metadata": {},
   "outputs": [],
   "source": [
    "# 컬럼 삭제 \n",
    "soft_df.drop(['source_m','source_o','source_h','source_r','source_s'], axis=1, inplace=True)"
   ]
  },
  {
   "cell_type": "code",
   "execution_count": 8,
   "id": "603373a9-c52c-4d0b-a91b-0caf25661777",
   "metadata": {},
   "outputs": [],
   "source": [
    "# 컬럼 삭제 \n",
    "soft_df.drop(['source_t','source_u','source_p','source_x','source_w'], axis=1, inplace=True)"
   ]
  },
  {
   "cell_type": "code",
   "execution_count": 9,
   "id": "80b92e52-d2d1-4901-bbfc-c425b686fa73",
   "metadata": {},
   "outputs": [],
   "source": [
    "# 컬럼 삭제 \n",
    "soft_df.drop(['1st_update_days_ago','Purchase'], axis=1, inplace=True)"
   ]
  },
  {
   "cell_type": "code",
   "execution_count": 10,
   "id": "da77a8ef-38ba-4f45-9a79-00f534e381a9",
   "metadata": {},
   "outputs": [
    {
     "name": "stdout",
     "output_type": "stream",
     "text": [
      "      sequence_number  US  Freq  last_update_days_ago  Web_order  Gender_male  \\\n",
      "0                   1   1     2                  3662          1            0   \n",
      "1                   2   1     0                  2900          1            1   \n",
      "2                   3   1     2                  3883          0            0   \n",
      "3                   4   1     1                   829          0            1   \n",
      "4                   5   1     1                   869          0            0   \n",
      "...               ...  ..   ...                   ...        ...          ...   \n",
      "1995             1996   1     1                  1701          1            0   \n",
      "1996             1997   1     1                  2633          1            1   \n",
      "1997             1998   1     0                  3394          0            0   \n",
      "1998             1999   1     1                   253          0            1   \n",
      "1999             2000   1     1                  1261          0            0   \n",
      "\n",
      "      Address_is_res  Spending  \n",
      "0                  1       128  \n",
      "1                  0         0  \n",
      "2                  0       127  \n",
      "3                  0         0  \n",
      "4                  0         0  \n",
      "...              ...       ...  \n",
      "1995               0        30  \n",
      "1996               0        10  \n",
      "1997               0         0  \n",
      "1998               1         0  \n",
      "1999               0         0  \n",
      "\n",
      "[2000 rows x 8 columns]\n"
     ]
    }
   ],
   "source": [
    "print(soft_df)"
   ]
  },
  {
   "cell_type": "code",
   "execution_count": 11,
   "id": "6bf1a912-33b2-490b-9315-496468401335",
   "metadata": {},
   "outputs": [
    {
     "data": {
      "text/html": [
       "<div>\n",
       "<style scoped>\n",
       "    .dataframe tbody tr th:only-of-type {\n",
       "        vertical-align: middle;\n",
       "    }\n",
       "\n",
       "    .dataframe tbody tr th {\n",
       "        vertical-align: top;\n",
       "    }\n",
       "\n",
       "    .dataframe thead th {\n",
       "        text-align: right;\n",
       "    }\n",
       "</style>\n",
       "<table border=\"1\" class=\"dataframe\">\n",
       "  <thead>\n",
       "    <tr style=\"text-align: right;\">\n",
       "      <th></th>\n",
       "      <th>sequence_number</th>\n",
       "      <th>US</th>\n",
       "      <th>Freq</th>\n",
       "      <th>last_update_days_ago</th>\n",
       "      <th>Web_order</th>\n",
       "      <th>Gender_male</th>\n",
       "      <th>Address_is_res</th>\n",
       "      <th>Spending</th>\n",
       "    </tr>\n",
       "  </thead>\n",
       "  <tbody>\n",
       "    <tr>\n",
       "      <th>0</th>\n",
       "      <td>False</td>\n",
       "      <td>False</td>\n",
       "      <td>False</td>\n",
       "      <td>False</td>\n",
       "      <td>False</td>\n",
       "      <td>False</td>\n",
       "      <td>False</td>\n",
       "      <td>False</td>\n",
       "    </tr>\n",
       "    <tr>\n",
       "      <th>1</th>\n",
       "      <td>False</td>\n",
       "      <td>False</td>\n",
       "      <td>False</td>\n",
       "      <td>False</td>\n",
       "      <td>False</td>\n",
       "      <td>False</td>\n",
       "      <td>False</td>\n",
       "      <td>False</td>\n",
       "    </tr>\n",
       "    <tr>\n",
       "      <th>2</th>\n",
       "      <td>False</td>\n",
       "      <td>False</td>\n",
       "      <td>False</td>\n",
       "      <td>False</td>\n",
       "      <td>False</td>\n",
       "      <td>False</td>\n",
       "      <td>False</td>\n",
       "      <td>False</td>\n",
       "    </tr>\n",
       "    <tr>\n",
       "      <th>3</th>\n",
       "      <td>False</td>\n",
       "      <td>False</td>\n",
       "      <td>False</td>\n",
       "      <td>False</td>\n",
       "      <td>False</td>\n",
       "      <td>False</td>\n",
       "      <td>False</td>\n",
       "      <td>False</td>\n",
       "    </tr>\n",
       "    <tr>\n",
       "      <th>4</th>\n",
       "      <td>False</td>\n",
       "      <td>False</td>\n",
       "      <td>False</td>\n",
       "      <td>False</td>\n",
       "      <td>False</td>\n",
       "      <td>False</td>\n",
       "      <td>False</td>\n",
       "      <td>False</td>\n",
       "    </tr>\n",
       "    <tr>\n",
       "      <th>...</th>\n",
       "      <td>...</td>\n",
       "      <td>...</td>\n",
       "      <td>...</td>\n",
       "      <td>...</td>\n",
       "      <td>...</td>\n",
       "      <td>...</td>\n",
       "      <td>...</td>\n",
       "      <td>...</td>\n",
       "    </tr>\n",
       "    <tr>\n",
       "      <th>1995</th>\n",
       "      <td>False</td>\n",
       "      <td>False</td>\n",
       "      <td>False</td>\n",
       "      <td>False</td>\n",
       "      <td>False</td>\n",
       "      <td>False</td>\n",
       "      <td>False</td>\n",
       "      <td>False</td>\n",
       "    </tr>\n",
       "    <tr>\n",
       "      <th>1996</th>\n",
       "      <td>False</td>\n",
       "      <td>False</td>\n",
       "      <td>False</td>\n",
       "      <td>False</td>\n",
       "      <td>False</td>\n",
       "      <td>False</td>\n",
       "      <td>False</td>\n",
       "      <td>False</td>\n",
       "    </tr>\n",
       "    <tr>\n",
       "      <th>1997</th>\n",
       "      <td>False</td>\n",
       "      <td>False</td>\n",
       "      <td>False</td>\n",
       "      <td>False</td>\n",
       "      <td>False</td>\n",
       "      <td>False</td>\n",
       "      <td>False</td>\n",
       "      <td>False</td>\n",
       "    </tr>\n",
       "    <tr>\n",
       "      <th>1998</th>\n",
       "      <td>False</td>\n",
       "      <td>False</td>\n",
       "      <td>False</td>\n",
       "      <td>False</td>\n",
       "      <td>False</td>\n",
       "      <td>False</td>\n",
       "      <td>False</td>\n",
       "      <td>False</td>\n",
       "    </tr>\n",
       "    <tr>\n",
       "      <th>1999</th>\n",
       "      <td>False</td>\n",
       "      <td>False</td>\n",
       "      <td>False</td>\n",
       "      <td>False</td>\n",
       "      <td>False</td>\n",
       "      <td>False</td>\n",
       "      <td>False</td>\n",
       "      <td>False</td>\n",
       "    </tr>\n",
       "  </tbody>\n",
       "</table>\n",
       "<p>2000 rows × 8 columns</p>\n",
       "</div>"
      ],
      "text/plain": [
       "      sequence_number     US   Freq  last_update_days_ago  Web_order  \\\n",
       "0               False  False  False                 False      False   \n",
       "1               False  False  False                 False      False   \n",
       "2               False  False  False                 False      False   \n",
       "3               False  False  False                 False      False   \n",
       "4               False  False  False                 False      False   \n",
       "...               ...    ...    ...                   ...        ...   \n",
       "1995            False  False  False                 False      False   \n",
       "1996            False  False  False                 False      False   \n",
       "1997            False  False  False                 False      False   \n",
       "1998            False  False  False                 False      False   \n",
       "1999            False  False  False                 False      False   \n",
       "\n",
       "      Gender_male  Address_is_res  Spending  \n",
       "0           False           False     False  \n",
       "1           False           False     False  \n",
       "2           False           False     False  \n",
       "3           False           False     False  \n",
       "4           False           False     False  \n",
       "...           ...             ...       ...  \n",
       "1995        False           False     False  \n",
       "1996        False           False     False  \n",
       "1997        False           False     False  \n",
       "1998        False           False     False  \n",
       "1999        False           False     False  \n",
       "\n",
       "[2000 rows x 8 columns]"
      ]
     },
     "execution_count": 11,
     "metadata": {},
     "output_type": "execute_result"
    }
   ],
   "source": [
    "#null data 확인\n",
    "soft_df.isnull()"
   ]
  },
  {
   "cell_type": "code",
   "execution_count": 12,
   "id": "091dac44-9912-45cc-97d8-17099921c642",
   "metadata": {},
   "outputs": [
    {
     "data": {
      "text/plain": [
       "sequence_number         0\n",
       "US                      0\n",
       "Freq                    0\n",
       "last_update_days_ago    0\n",
       "Web_order               0\n",
       "Gender_male             0\n",
       "Address_is_res          0\n",
       "Spending                0\n",
       "dtype: int64"
      ]
     },
     "execution_count": 12,
     "metadata": {},
     "output_type": "execute_result"
    }
   ],
   "source": [
    "#null data 확인\n",
    "soft_df.isnull().sum()"
   ]
  },
  {
   "cell_type": "code",
   "execution_count": 13,
   "id": "7fd76d30-901e-4b3d-abb5-e27394375558",
   "metadata": {},
   "outputs": [],
   "source": [
    "# 만약 null 값이 있을 경우 삭제방법\n",
    "# soft_df = soft_df.dropna()   null값이 있는 모든 행 삭제\n",
    "# 또는 soft_df = df.dropna(axis=1)   null값이 있는 열(coulumn) 모두 제거\n"
   ]
  },
  {
   "cell_type": "code",
   "execution_count": 14,
   "id": "f3abfed6-088f-41d2-b8e8-1426048f1ed5",
   "metadata": {},
   "outputs": [
    {
     "name": "stdout",
     "output_type": "stream",
     "text": [
      "       sequence_number           US         Freq  last_update_days_ago  \\\n",
      "count      2000.000000  2000.000000  2000.000000           2000.000000   \n",
      "mean       1000.500000     0.824500     1.417000           2155.101000   \n",
      "std         577.494589     0.380489     1.405738           1141.302846   \n",
      "min           1.000000     0.000000     0.000000              1.000000   \n",
      "25%         500.750000     1.000000     1.000000           1133.000000   \n",
      "50%        1000.500000     1.000000     1.000000           2280.000000   \n",
      "75%        1500.250000     1.000000     2.000000           3139.250000   \n",
      "max        2000.000000     1.000000    15.000000           4188.000000   \n",
      "\n",
      "         Web_order  Gender_male  Address_is_res    Spending  \n",
      "count  2000.000000  2000.000000     2000.000000  2000.00000  \n",
      "mean      0.426000     0.524500        0.221000   102.62500  \n",
      "std       0.494617     0.499524        0.415024   186.78261  \n",
      "min       0.000000     0.000000        0.000000     0.00000  \n",
      "25%       0.000000     0.000000        0.000000     0.00000  \n",
      "50%       0.000000     1.000000        0.000000     2.00000  \n",
      "75%       1.000000     1.000000        0.000000   153.00000  \n",
      "max       1.000000     1.000000        1.000000  1500.00000  \n"
     ]
    }
   ],
   "source": [
    "print(soft_df.describe())"
   ]
  },
  {
   "cell_type": "markdown",
   "id": "3aa63e45-4780-4658-a40c-20f6f9f88226",
   "metadata": {},
   "source": [
    "### 범주별 소비금액의 평균과 표준편차"
   ]
  },
  {
   "cell_type": "code",
   "execution_count": 15,
   "id": "38eaf651-68ed-4d20-8345-f2af1d9500bc",
   "metadata": {},
   "outputs": [
    {
     "name": "stdout",
     "output_type": "stream",
     "text": [
      "      Spending            \n",
      "          mean         std\n",
      "US                        \n",
      "0   101.216524  174.844401\n",
      "1   102.924803  189.275664\n"
     ]
    }
   ],
   "source": [
    "gor_df = soft_df.groupby('US').agg({'Spending':['mean','std']})\n",
    "print(gor_df)"
   ]
  },
  {
   "cell_type": "code",
   "execution_count": 16,
   "id": "513877d1-7d03-4620-8429-209a33259bcd",
   "metadata": {},
   "outputs": [
    {
     "name": "stdout",
     "output_type": "stream",
     "text": [
      "0       2\n",
      "1       0\n",
      "2       2\n",
      "3       1\n",
      "4       1\n",
      "       ..\n",
      "1995    1\n",
      "1996    1\n",
      "1997    0\n",
      "1998    1\n",
      "1999    1\n",
      "Name: Freq, Length: 2000, dtype: int64\n"
     ]
    }
   ],
   "source": [
    "print(soft_df['Freq'])"
   ]
  },
  {
   "cell_type": "code",
   "execution_count": 17,
   "id": "46aa0e7a-4aa2-4ed7-a900-dd2439fe3d44",
   "metadata": {},
   "outputs": [
    {
     "name": "stdout",
     "output_type": "stream",
     "text": [
      "      0   1   2   3   4   5   6   7   8   9   10  11  12  13  15\n",
      "0      0   0   1   0   0   0   0   0   0   0   0   0   0   0   0\n",
      "1      1   0   0   0   0   0   0   0   0   0   0   0   0   0   0\n",
      "2      0   0   1   0   0   0   0   0   0   0   0   0   0   0   0\n",
      "3      0   1   0   0   0   0   0   0   0   0   0   0   0   0   0\n",
      "4      0   1   0   0   0   0   0   0   0   0   0   0   0   0   0\n",
      "...   ..  ..  ..  ..  ..  ..  ..  ..  ..  ..  ..  ..  ..  ..  ..\n",
      "1995   0   1   0   0   0   0   0   0   0   0   0   0   0   0   0\n",
      "1996   0   1   0   0   0   0   0   0   0   0   0   0   0   0   0\n",
      "1997   1   0   0   0   0   0   0   0   0   0   0   0   0   0   0\n",
      "1998   0   1   0   0   0   0   0   0   0   0   0   0   0   0   0\n",
      "1999   0   1   0   0   0   0   0   0   0   0   0   0   0   0   0\n",
      "\n",
      "[2000 rows x 15 columns]\n"
     ]
    }
   ],
   "source": [
    "dum = pd.get_dummies(soft_df['Freq'])\n",
    "print(dum)"
   ]
  },
  {
   "cell_type": "code",
   "execution_count": 18,
   "id": "3bbafae8-ce88-4d6a-9b6e-54f9b0fcad84",
   "metadata": {},
   "outputs": [
    {
     "name": "stdout",
     "output_type": "stream",
     "text": [
      "             mean         std\n",
      "Freq                         \n",
      "0        0.000000    0.000000\n",
      "1       66.322476  104.424412\n",
      "2      123.479714  151.509696\n",
      "3      234.993243  226.259754\n",
      "4      306.061224  165.153642\n",
      "5      459.862069  270.661719\n",
      "6      556.750000  344.195009\n",
      "7      642.125000  520.126478\n",
      "8      933.500000  324.925120\n",
      "9      870.500000  433.828307\n",
      "10    1199.000000   21.213203\n",
      "11    1334.000000  151.320851\n",
      "12    1320.500000  177.483802\n",
      "13    1443.000000         NaN\n",
      "15    1133.000000         NaN\n"
     ]
    }
   ],
   "source": [
    "gor_df = soft_df.groupby(['Freq'])['Spending'].agg(['mean','std'])\n",
    "print(gor_df)"
   ]
  },
  {
   "cell_type": "code",
   "execution_count": 19,
   "id": "1e459876-c2eb-41d5-b4f9-9b36924ec3f7",
   "metadata": {},
   "outputs": [
    {
     "name": "stdout",
     "output_type": "stream",
     "text": [
      "                            mean         std\n",
      "last_update_days_ago                        \n",
      "1                     109.000000         NaN\n",
      "7                     129.000000         NaN\n",
      "9                     196.000000         NaN\n",
      "14                    303.000000         NaN\n",
      "15                     71.000000  100.409163\n",
      "...                          ...         ...\n",
      "4065                   64.750000   58.987993\n",
      "4096                   75.666667   93.681731\n",
      "4127                   17.500000   24.748737\n",
      "4157                   75.666667   95.516840\n",
      "4188                   88.000000   76.374079\n",
      "\n",
      "[940 rows x 2 columns]\n"
     ]
    }
   ],
   "source": [
    "gor_df = soft_df.groupby(['last_update_days_ago'])['Spending'].agg(['mean','std'])\n",
    "print(gor_df)"
   ]
  },
  {
   "cell_type": "code",
   "execution_count": 20,
   "id": "eea4b4c7-b8fb-4699-a361-6933bfddf27d",
   "metadata": {},
   "outputs": [
    {
     "name": "stdout",
     "output_type": "stream",
     "text": [
      "                 mean         std\n",
      "Web_order                        \n",
      "0           82.902439  173.417088\n",
      "1          129.199531  200.463840\n"
     ]
    }
   ],
   "source": [
    "gor_df = soft_df.groupby(['Web_order'])['Spending'].agg(['mean','std'])\n",
    "print(gor_df)"
   ]
  },
  {
   "cell_type": "code",
   "execution_count": 21,
   "id": "1987c287-9207-4c8f-92b6-0a403a2695de",
   "metadata": {},
   "outputs": [
    {
     "name": "stdout",
     "output_type": "stream",
     "text": [
      "                   mean        std\n",
      "Gender_male                       \n",
      "0            107.339642  190.83233\n",
      "1             98.350810  183.02006\n"
     ]
    }
   ],
   "source": [
    "gor_df = soft_df.groupby(['Gender_male'])['Spending'].agg(['mean','std'])\n",
    "print(gor_df)"
   ]
  },
  {
   "cell_type": "code",
   "execution_count": 22,
   "id": "995c2aeb-3b2c-403c-9cf3-6caf3b037423",
   "metadata": {
    "tags": []
   },
   "outputs": [
    {
     "name": "stdout",
     "output_type": "stream",
     "text": [
      "                      mean         std\n",
      "Address_is_res                        \n",
      "0               105.306162  199.521159\n",
      "1                93.174208  132.204281\n"
     ]
    }
   ],
   "source": [
    "gor_df = soft_df.groupby(['Address_is_res'])['Spending'].agg(['mean','std'])\n",
    "print(gor_df)"
   ]
  },
  {
   "cell_type": "markdown",
   "id": "e21c0d66-11d8-4da8-ade1-68fb7a904a93",
   "metadata": {},
   "source": [
    "### 연속형 변수들에 대한 산점도(2개)작성하여 소비금액과의 관계 탐색"
   ]
  },
  {
   "cell_type": "code",
   "execution_count": 23,
   "id": "bd1b6c40-c6bd-44e3-b1c7-b19cda6e98c4",
   "metadata": {},
   "outputs": [
    {
     "data": {
      "image/png": "[encoded data removed]",
      "text/plain": [
       "<Figure size 1080x720 with 2 Axes>"
      ]
     },
     "metadata": {
      "needs_background": "light"
     },
     "output_type": "display_data"
    }
   ],
   "source": [
    "fig, ax = plt.subplots(1, 2, figsize = (15, 10))\n",
    "ax[0].scatter(soft_df['Freq'],soft_df['Spending'],label = 'Freq vs. Specnding')\n",
    "ax[0].set_xlabel('Freq'), ax[0].set_ylabel('Spending')\n",
    "ax[0].legend()  #범례 표시\n",
    "ax[1].scatter(soft_df['last_update_days_ago'],soft_df['Spending'],label = 'last_update_days_ago vs. Spending')\n",
    "ax[1].set_xlabel('Days'), ax[0].set_ylabel('Spending')\n",
    "ax[1].legend()  # 범례표시 및 (loc='left') 위치 표시 \n",
    "plt.show()"
   ]
  },
  {
   "cell_type": "markdown",
   "id": "88460dc5-3b07-478c-a2e4-f80abc8d1a73",
   "metadata": {},
   "source": [
    "  \n",
    "  \n",
    "  ## 모델 생성\n",
    "predictiors : 독립변수로 사용할 변수 선택  \n",
    "outcome : 종속변수로 사용할 변수 선택"
   ]
  },
  {
   "cell_type": "code",
   "execution_count": 24,
   "id": "45663f31-4148-41b8-bacb-ce61bd2b8880",
   "metadata": {
    "tags": []
   },
   "outputs": [
    {
     "name": "stdout",
     "output_type": "stream",
     "text": [
      "intercept  10.17629741458967\n",
      "              Predictor  coefficient\n",
      "0                    US    -4.620293\n",
      "1                  Freq    91.274450\n",
      "2  last_update_days_ago    -0.010374\n",
      "3             Web_order    18.628731\n",
      "4           Gender_male    -9.111366\n",
      "5        Address_is_res   -75.815354\n",
      "\n",
      "Regression statistics\n",
      "\n",
      "               Mean Error (ME) : 0.0000\n",
      "Root Mean Squared Error (RMSE) : 125.9999\n",
      "     Mean Absolute Error (MAE) : 79.4772\n"
     ]
    }
   ],
   "source": [
    "predictors = ['US', 'Freq', 'last_update_days_ago', 'Web_order', 'Gender_male', 'Address_is_res']   #독립변수로 사용될 Coloum\n",
    "outcome = 'Spending'    # 종속변수\n",
    "\n",
    "# partition data \n",
    "X = pd.get_dummies(soft_df[predictors], drop_first=True)   #범주형 변수를 더미변수(이진수로 표현되는 변수, 0과 1로 나타냄)로 변환\n",
    "y = soft_df[outcome]\n",
    "train_X, valid_X, train_y, valid_y = train_test_split(X, y, test_size=0.4, random_state=1) # 학습데이터와 검증데이터로 분할\n",
    "\n",
    "soft_lm = LinearRegression()    #선형 회귀모델 클래스를 사용하여 soft_lm 객체를 생성\n",
    "soft_lm.fit(train_X, train_y)   #soft_lm 객체를 학습, 학습후 soft_lm을을 사용하여 새로운 입력 데이터에 대한 예측 수행\n",
    "\n",
    "# print coefficients\n",
    "print('intercept ', soft_lm.intercept_)    # 학습된 절편출력\n",
    "print(pd.DataFrame({'Predictor': X.columns, 'coefficient': soft_lm.coef_}))  #pandas dataframe 형식으로 독립변수에 대한 coefficient 나타냄 \n",
    " \n",
    "# print performance measures\n",
    "regressionSummary(train_y, soft_lm.predict(train_X)) #  모델의 성능평가 및 요약, Train y값과 예측된 y값을 받아 예측 성능에 대한 통계치와 정보를 출력"
   ]
  },
  {
   "cell_type": "markdown",
   "id": "5e17fa99-2f17-424f-bd52-9c35a248db7a",
   "metadata": {},
   "source": [
    "RMSE : 실제 값과 예측 값의 차이의 제곱값의 평균의 제곱근\n",
    "MAE : 예측값과 실제 값의 차이를 평균한 값"
   ]
  },
  {
   "cell_type": "code",
   "execution_count": 25,
   "id": "e69d4001-ae16-4a2b-9c9f-8b54d1a4fc43",
   "metadata": {},
   "outputs": [
    {
     "name": "stdout",
     "output_type": "stream",
     "text": [
      "adjusted r2 :  0.5221321114376756\n",
      "AIC :  15028.52685802683\n",
      "BIC :  15069.247472713037\n"
     ]
    }
   ],
   "source": [
    "pred_y = soft_lm.predict(train_X)   # soft_lm(학습된 선형 회귀모델)을 사용하여 입력데이타(train_X)에 대한 예측 값을 계산하여 pred_y에 저장\n",
    "\n",
    "print('adjusted r2 : ', adjusted_r2_score(train_y, pred_y, soft_lm))  # : 결과 R2 값이 높을 수록 모델의 설명력이 높단고 판단할 수 있다.\n",
    "print('AIC : ', AIC_score(train_y, pred_y, soft_lm))\n",
    "print('BIC : ', BIC_score(train_y, pred_y, soft_lm))"
   ]
  },
  {
   "cell_type": "code",
   "execution_count": 26,
   "id": "fa889924-4b75-4a78-a169-fc4b14acf75c",
   "metadata": {},
   "outputs": [
    {
     "name": "stdout",
     "output_type": "stream",
     "text": [
      "       Predicted  Actual     Residual\n",
      "674    89.214915       0   -89.214915\n",
      "1699  202.231362     184   -18.231362\n",
      "1282   49.159303       0   -49.159303\n",
      "1315  824.841659    1289   464.158341\n",
      "1210    0.121196       0    -0.121196\n",
      "1636   86.766675       0   -86.766675\n",
      "613    58.018614       0   -58.018614\n",
      "447   247.428569    1255  1007.571431\n",
      "1131   67.036615       0   -67.036615\n",
      "808    67.825031       0   -67.825031\n",
      "1496   -7.098168       0     7.098168\n",
      "1468  194.814024     411   216.185976\n",
      "1682  -13.480101       0    13.480101\n",
      "1149  -32.457046       0    32.457046\n",
      "442    61.247979       0   -61.247979\n",
      "1813    4.497885     173   168.502115\n",
      "654   -46.046854       0    46.046854\n",
      "1264  -32.315195       0    32.315195\n",
      "858    80.219048       0   -80.219048\n",
      "1482   51.783900       0   -51.783900\n",
      "\n",
      "Regression statistics\n",
      "\n",
      "               Mean Error (ME) : 7.1933\n",
      "Root Mean Squared Error (RMSE) : 136.7397\n",
      "     Mean Absolute Error (MAE) : 83.6010\n"
     ]
    }
   ],
   "source": [
    "# Use predict() to make predictions on a new set\n",
    "soft_lm_pred = soft_lm.predict(valid_X)\n",
    "\n",
    "result = pd.DataFrame({'Predicted': soft_lm_pred, 'Actual': valid_y,\n",
    "                       'Residual': valid_y - soft_lm_pred})\n",
    "print(result.head(20))\n",
    "\n",
    "# Compute common accuracy measures\n",
    "regressionSummary(valid_y, soft_lm_pred)"
   ]
  },
  {
   "cell_type": "code",
   "execution_count": 27,
   "id": "d2f8ed6e-af76-4a80-b022-913f6c7ca197",
   "metadata": {},
   "outputs": [],
   "source": [
    "# MPE, MAPE 는 왜 출력되지 않지?"
   ]
  },
  {
   "cell_type": "code",
   "execution_count": 42,
   "id": "00068641-0cf4-47da-916c-a7947141825e",
   "metadata": {},
   "outputs": [
    {
     "name": "stdout",
     "output_type": "stream",
     "text": [
      "0.0\n"
     ]
    },
    {
     "data": {
      "image/png": "[encoded data removed]",
      "text/plain": [
       "<Figure size 432x288 with 1 Axes>"
      ]
     },
     "metadata": {
      "needs_background": "light"
     },
     "output_type": "display_data"
    }
   ],
   "source": [
    "soft_lm_pred = soft_lm.predict(valid_X)\n",
    "all_residuals = valid_y - soft_lm_pred\n",
    "\n",
    "# Determine the percentage of datapoints with a residual in [-1406, 1406] = approx. 75\\%  ??? data에 맞게 수정해야 하나?? 효과없음 모든 잔차표시 됨\n",
    "# print(len(all_residuals[(all_residuals > -1406) & (all_residuals < 1406)]) / len(all_residuals))\n",
    "print(len(all_residuals[(all_residuals > 500) & (all_residuals < 500)]) / len(all_residuals))\n",
    "\n",
    "ax = pd.DataFrame({'Residuals': all_residuals}).hist(bins=100)\n",
    "\n",
    "plt.tight_layout()\n",
    "plt.show()"
   ]
  },
  {
   "cell_type": "code",
   "execution_count": 29,
   "id": "975edd54-683c-47ea-90a7-347370e4e2db",
   "metadata": {},
   "outputs": [
    {
     "name": "stdout",
     "output_type": "stream",
     "text": [
      "   n     r2adj           AIC  Address_is_res  Freq  Gender_male     US  Web_order  \\\n",
      "0  1  0.490719  15099.943551           False  True        False  False      False   \n",
      "1  2  0.516880  15037.660282            True  True        False  False      False   \n",
      "2  3  0.520135  15030.544822            True  True        False  False      False   \n",
      "3  4  0.522193  15026.383156            True  True        False  False       True   \n",
      "4  5  0.522440  15026.758078            True  True         True  False       True   \n",
      "5  6  0.522132  15028.526858            True  True         True   True       True   \n",
      "\n",
      "   last_update_days_ago  \n",
      "0                 False  \n",
      "1                 False  \n",
      "2                  True  \n",
      "3                  True  \n",
      "4                  True  \n",
      "5                  True  \n"
     ]
    }
   ],
   "source": [
    "def train_model(variables):\n",
    "    model = LinearRegression()\n",
    "    model.fit(train_X[variables], train_y)\n",
    "    return model\n",
    "\n",
    "def score_model(model, variables):\n",
    "    pred_y = model.predict(train_X[variables])\n",
    "    # we negate as score is optimized to be as low as possible\n",
    "    return -adjusted_r2_score(train_y, pred_y, model)\n",
    "\n",
    "allVariables = train_X.columns\n",
    "results = exhaustive_search(allVariables, train_model, score_model)\n",
    "\n",
    "data = []\n",
    "for result in results:\n",
    "    model = result['model']\n",
    "    variables = result['variables']\n",
    "    AIC = AIC_score(train_y, model.predict(train_X[variables]), model)\n",
    "    \n",
    "    d = {'n': result['n'], 'r2adj': -result['score'], 'AIC': AIC}\n",
    "    d.update({var: var in result['variables'] for var in allVariables})\n",
    "    data.append(d)\n",
    "pd.set_option('display.width', 100)\n",
    "print(pd.DataFrame(data, columns=('n', 'r2adj', 'AIC') + tuple(sorted(allVariables))))\n",
    "pd.reset_option('display.width')"
   ]
  },
  {
   "cell_type": "markdown",
   "id": "6b80586e-289f-4f7b-9ad9-aaee569d75be",
   "metadata": {},
   "source": [
    "## 후진제거"
   ]
  },
  {
   "cell_type": "code",
   "execution_count": 30,
   "id": "cec95e85-c269-4593-9f84-00b8d74142c2",
   "metadata": {},
   "outputs": [
    {
     "name": "stdout",
     "output_type": "stream",
     "text": [
      "Variables: US, Freq, last_update_days_ago, Web_order, Gender_male, Address_is_res\n",
      "Start: score=15028.53\n",
      "Step: score=15026.76, remove US\n",
      "Step: score=15026.38, remove Gender_male\n",
      "Step: score=15026.38, remove None\n",
      "['Freq', 'last_update_days_ago', 'Web_order', 'Address_is_res']\n"
     ]
    }
   ],
   "source": [
    "def train_model(variables):\n",
    "    model = LinearRegression()\n",
    "    model.fit(train_X[variables], train_y)\n",
    "    return model\n",
    "\n",
    "def score_model(model, variables):\n",
    "    return AIC_score(train_y, model.predict(train_X[variables]), model)\n",
    "\n",
    "best_model, best_variables = backward_elimination(train_X.columns, train_model, score_model, verbose=True)\n",
    "\n",
    "print(best_variables)"
   ]
  },
  {
   "cell_type": "code",
   "execution_count": 31,
   "id": "f2dc7ae1-72e4-4274-a0ef-c9cb4e1df30c",
   "metadata": {},
   "outputs": [
    {
     "name": "stdout",
     "output_type": "stream",
     "text": [
      "      US  Freq  last_update_days_ago  Web_order  Gender_male  Address_is_res\n",
      "674    1     2                  1346          0            1               1\n",
      "1699   1     2                   434          1            0               0\n",
      "1282   1     1                  3717          0            1               0\n",
      "1315   1     9                  1128          1            1               0\n",
      "1210   0     0                  2765          1            0               0\n",
      "674        0\n",
      "1699     184\n",
      "1282       0\n",
      "1315    1289\n",
      "1210       0\n",
      "Name: Spending, dtype: int64\n"
     ]
    }
   ],
   "source": [
    "print(valid_X.head(5))\n",
    "print(valid_y.head(5))"
   ]
  },
  {
   "cell_type": "code",
   "execution_count": 32,
   "id": "3e99c6b2-dfae-4556-857f-35aa917d813a",
   "metadata": {},
   "outputs": [
    {
     "name": "stdout",
     "output_type": "stream",
     "text": [
      "\n",
      "Regression statistics\n",
      "\n",
      "               Mean Error (ME) : 6.9616\n",
      "Root Mean Squared Error (RMSE) : 136.5274\n",
      "     Mean Absolute Error (MAE) : 83.4472\n"
     ]
    }
   ],
   "source": [
    "regressionSummary(valid_y, best_model.predict(valid_X[best_variables]))"
   ]
  },
  {
   "cell_type": "code",
   "execution_count": 33,
   "id": "a28117f8-3eac-4ec1-bf7c-48260d2566b6",
   "metadata": {},
   "outputs": [
    {
     "name": "stdout",
     "output_type": "stream",
     "text": [
      "Variables: US, Freq, last_update_days_ago, Web_order, Gender_male, Address_is_res\n",
      "Start: score=15908.65, constant\n",
      "Step: score=15099.94, add Freq\n",
      "Step: score=15037.66, add Address_is_res\n",
      "Step: score=15030.54, add last_update_days_ago\n",
      "Step: score=15026.38, add Web_order\n",
      "Step: score=15026.38, add None\n",
      "['Freq', 'Address_is_res', 'last_update_days_ago', 'Web_order']\n"
     ]
    }
   ],
   "source": [
    "# The initial model is the constant model - this requires special handling\n",
    "# in train_model and score_model\n",
    "def train_model(variables):\n",
    "    if len(variables) == 0:\n",
    "        return None\n",
    "    model = LinearRegression()\n",
    "    model.fit(train_X[variables], train_y)\n",
    "    return model\n",
    "\n",
    "def score_model(model, variables):\n",
    "    if len(variables) == 0:\n",
    "        return AIC_score(train_y, [train_y.mean()] * len(train_y), model, df=1)\n",
    "    return AIC_score(train_y, model.predict(train_X[variables]), model)\n",
    "\n",
    "best_model, best_variables = forward_selection(train_X.columns, train_model, score_model, verbose=True)\n",
    "\n",
    "print(best_variables)"
   ]
  },
  {
   "cell_type": "code",
   "execution_count": 34,
   "id": "11196fb3-882e-4589-b70f-05e18b06e836",
   "metadata": {},
   "outputs": [
    {
     "name": "stdout",
     "output_type": "stream",
     "text": [
      "Variables: US, Freq, last_update_days_ago, Web_order, Gender_male, Address_is_res\n",
      "Start: score=15908.65, constant\n",
      "Step: score=15099.94, add Freq\n",
      "Step: score=15037.66, add Address_is_res\n",
      "Step: score=15030.54, add last_update_days_ago\n",
      "Step: score=15026.38, add Web_order\n",
      "Step: score=15026.38, unchanged None\n",
      "['Freq', 'Address_is_res', 'last_update_days_ago', 'Web_order']\n"
     ]
    }
   ],
   "source": [
    "best_model, best_variables = stepwise_selection(train_X.columns, train_model, score_model, verbose=True)\n",
    "\n",
    "print(best_variables)"
   ]
  },
  {
   "cell_type": "code",
   "execution_count": 35,
   "id": "b61df40f-c4b3-42c4-ab08-6135a5407537",
   "metadata": {},
   "outputs": [
    {
     "name": "stdout",
     "output_type": "stream",
     "text": [
      "\n",
      "Regression statistics\n",
      "\n",
      "               Mean Error (ME) : 7.8223\n",
      "Root Mean Squared Error (RMSE) : 147.0493\n",
      "     Mean Absolute Error (MAE) : 83.0989\n",
      "\n",
      "Regression statistics\n",
      "\n",
      "               Mean Error (ME) : 7.2083\n",
      "Root Mean Squared Error (RMSE) : 136.7585\n",
      "     Mean Absolute Error (MAE) : 83.4015\n",
      "Lasso-CV chosen regularization:  0.017158768452337228\n",
      "[-3.02630677e+00  9.09029219e+01 -9.87649442e-03  1.76781635e+01\n",
      " -8.03868634e+00 -7.38626527e+01]\n",
      "\n",
      "Regression statistics\n",
      "\n",
      "               Mean Error (ME) : 7.3489\n",
      "Root Mean Squared Error (RMSE) : 155.3242\n",
      "     Mean Absolute Error (MAE) : 89.5668\n",
      "\n",
      "Regression statistics\n",
      "\n",
      "               Mean Error (ME) : 7.1924\n",
      "Root Mean Squared Error (RMSE) : 136.7960\n",
      "     Mean Absolute Error (MAE) : 83.5284\n",
      "Bayesian ridge chosen regularization:  0.0044479378117621106\n"
     ]
    },
    {
     "name": "stderr",
     "output_type": "stream",
     "text": [
      "E:\\Programs\\anaconda3\\lib\\site-packages\\sklearn\\linear_model\\_base.py:141: FutureWarning: 'normalize' was deprecated in version 1.0 and will be removed in 1.2.\n",
      "If you wish to scale the data, use Pipeline with a StandardScaler in a preprocessing stage. To reproduce the previous behavior:\n",
      "\n",
      "from sklearn.pipeline import make_pipeline\n",
      "\n",
      "model = make_pipeline(StandardScaler(with_mean=False), Lasso())\n",
      "\n",
      "If you wish to pass a sample_weight parameter, you need to pass it as a fit parameter to each step of the pipeline as follows:\n",
      "\n",
      "kwargs = {s[0] + '__sample_weight': sample_weight for s in model.steps}\n",
      "model.fit(X, y, **kwargs)\n",
      "\n",
      "Set parameter alpha to: original_alpha * np.sqrt(n_samples). \n",
      "  warnings.warn(\n",
      "E:\\Programs\\anaconda3\\lib\\site-packages\\sklearn\\linear_model\\_base.py:141: FutureWarning: 'normalize' was deprecated in version 1.0 and will be removed in 1.2.\n",
      "If you wish to scale the data, use Pipeline with a StandardScaler in a preprocessing stage. To reproduce the previous behavior:\n",
      "\n",
      "from sklearn.pipeline import make_pipeline\n",
      "\n",
      "model = make_pipeline(StandardScaler(with_mean=False), Lasso())\n",
      "\n",
      "If you wish to pass a sample_weight parameter, you need to pass it as a fit parameter to each step of the pipeline as follows:\n",
      "\n",
      "kwargs = {s[0] + '__sample_weight': sample_weight for s in model.steps}\n",
      "model.fit(X, y, **kwargs)\n",
      "\n",
      "Set parameter alpha to: original_alpha * np.sqrt(n_samples). \n",
      "  warnings.warn(\n",
      "E:\\Programs\\anaconda3\\lib\\site-packages\\sklearn\\linear_model\\_base.py:141: FutureWarning: 'normalize' was deprecated in version 1.0 and will be removed in 1.2.\n",
      "If you wish to scale the data, use Pipeline with a StandardScaler in a preprocessing stage. To reproduce the previous behavior:\n",
      "\n",
      "from sklearn.pipeline import make_pipeline\n",
      "\n",
      "model = make_pipeline(StandardScaler(with_mean=False), Ridge())\n",
      "\n",
      "If you wish to pass a sample_weight parameter, you need to pass it as a fit parameter to each step of the pipeline as follows:\n",
      "\n",
      "kwargs = {s[0] + '__sample_weight': sample_weight for s in model.steps}\n",
      "model.fit(X, y, **kwargs)\n",
      "\n",
      "Set parameter alpha to: original_alpha * n_samples. \n",
      "  warnings.warn(\n",
      "E:\\Programs\\anaconda3\\lib\\site-packages\\sklearn\\linear_model\\_base.py:141: FutureWarning: 'normalize' was deprecated in version 1.0 and will be removed in 1.2.\n",
      "If you wish to scale the data, use Pipeline with a StandardScaler in a preprocessing stage. To reproduce the previous behavior:\n",
      "\n",
      "from sklearn.pipeline import make_pipeline\n",
      "\n",
      "model = make_pipeline(StandardScaler(with_mean=False), BayesianRidge())\n",
      "\n",
      "If you wish to pass a sample_weight parameter, you need to pass it as a fit parameter to each step of the pipeline as follows:\n",
      "\n",
      "kwargs = {s[0] + '__sample_weight': sample_weight for s in model.steps}\n",
      "model.fit(X, y, **kwargs)\n",
      "\n",
      "\n",
      "  warnings.warn(\n"
     ]
    }
   ],
   "source": [
    "lasso = Lasso(normalize=True, alpha=1)\n",
    "lasso.fit(train_X, train_y)\n",
    "regressionSummary(valid_y, lasso.predict(valid_X))\n",
    "\n",
    "lasso_cv = LassoCV(normalize=True, cv=5)\n",
    "lasso_cv.fit(train_X, train_y)\n",
    "regressionSummary(valid_y, lasso_cv.predict(valid_X))\n",
    "print('Lasso-CV chosen regularization: ', lasso_cv.alpha_)\n",
    "print(lasso_cv.coef_)\n",
    "\n",
    "ridge = Ridge(normalize=True, alpha=1)\n",
    "ridge.fit(train_X, train_y)\n",
    "regressionSummary(valid_y, ridge.predict(valid_X))\n",
    "\n",
    "bayesianRidge = BayesianRidge(normalize=True)\n",
    "bayesianRidge.fit(train_X, train_y)\n",
    "regressionSummary(valid_y, bayesianRidge.predict(valid_X))\n",
    "print('Bayesian ridge chosen regularization: ', bayesianRidge.lambda_ / bayesianRidge.alpha_)"
   ]
  },
  {
   "cell_type": "code",
   "execution_count": 36,
   "id": "1a43277b-e0d0-4ada-bc91-876e67848068",
   "metadata": {},
   "outputs": [
    {
     "name": "stdout",
     "output_type": "stream",
     "text": [
      "\n",
      "Regression statistics\n",
      "\n",
      "               Mean Error (ME) : 7.1933\n",
      "Root Mean Squared Error (RMSE) : 136.7397\n",
      "     Mean Absolute Error (MAE) : 83.6010\n"
     ]
    },
    {
     "name": "stderr",
     "output_type": "stream",
     "text": [
      "E:\\Programs\\anaconda3\\lib\\site-packages\\sklearn\\linear_model\\_base.py:141: FutureWarning: 'normalize' was deprecated in version 1.0 and will be removed in 1.2.\n",
      "If you wish to scale the data, use Pipeline with a StandardScaler in a preprocessing stage. To reproduce the previous behavior:\n",
      "\n",
      "from sklearn.pipeline import make_pipeline\n",
      "\n",
      "model = make_pipeline(StandardScaler(with_mean=False), LinearRegression())\n",
      "\n",
      "If you wish to pass a sample_weight parameter, you need to pass it as a fit parameter to each step of the pipeline as follows:\n",
      "\n",
      "kwargs = {s[0] + '__sample_weight': sample_weight for s in model.steps}\n",
      "model.fit(X, y, **kwargs)\n",
      "\n",
      "\n",
      "  warnings.warn(\n"
     ]
    }
   ],
   "source": [
    "linearRegression = LinearRegression(normalize=True).fit(train_X, train_y)\n",
    "regressionSummary(valid_y, linearRegression.predict(valid_X))"
   ]
  },
  {
   "cell_type": "code",
   "execution_count": 37,
   "id": "1db3a131-2291-4372-a711-edb1ac11d4f5",
   "metadata": {},
   "outputs": [
    {
     "data": {
      "text/html": [
       "<div>\n",
       "<style scoped>\n",
       "    .dataframe tbody tr th:only-of-type {\n",
       "        vertical-align: middle;\n",
       "    }\n",
       "\n",
       "    .dataframe tbody tr th {\n",
       "        vertical-align: top;\n",
       "    }\n",
       "\n",
       "    .dataframe thead th {\n",
       "        text-align: right;\n",
       "    }\n",
       "</style>\n",
       "<table border=\"1\" class=\"dataframe\">\n",
       "  <thead>\n",
       "    <tr style=\"text-align: right;\">\n",
       "      <th></th>\n",
       "      <th>features</th>\n",
       "      <th>linear regression</th>\n",
       "      <th>lassoCV</th>\n",
       "      <th>bayesianRidge</th>\n",
       "    </tr>\n",
       "  </thead>\n",
       "  <tbody>\n",
       "    <tr>\n",
       "      <th>0</th>\n",
       "      <td>US</td>\n",
       "      <td>-4.620293</td>\n",
       "      <td>-3.026307</td>\n",
       "      <td>-4.492627</td>\n",
       "    </tr>\n",
       "    <tr>\n",
       "      <th>1</th>\n",
       "      <td>Freq</td>\n",
       "      <td>91.274450</td>\n",
       "      <td>90.902922</td>\n",
       "      <td>90.791529</td>\n",
       "    </tr>\n",
       "    <tr>\n",
       "      <th>2</th>\n",
       "      <td>last_update_days_ago</td>\n",
       "      <td>-0.010374</td>\n",
       "      <td>-0.009876</td>\n",
       "      <td>-0.010482</td>\n",
       "    </tr>\n",
       "    <tr>\n",
       "      <th>3</th>\n",
       "      <td>Web_order</td>\n",
       "      <td>18.628731</td>\n",
       "      <td>17.678163</td>\n",
       "      <td>18.743705</td>\n",
       "    </tr>\n",
       "    <tr>\n",
       "      <th>4</th>\n",
       "      <td>Gender_male</td>\n",
       "      <td>-9.111366</td>\n",
       "      <td>-8.038686</td>\n",
       "      <td>-9.133198</td>\n",
       "    </tr>\n",
       "    <tr>\n",
       "      <th>5</th>\n",
       "      <td>Address_is_res</td>\n",
       "      <td>-75.815354</td>\n",
       "      <td>-73.862653</td>\n",
       "      <td>-75.175295</td>\n",
       "    </tr>\n",
       "  </tbody>\n",
       "</table>\n",
       "</div>"
      ],
      "text/plain": [
       "               features  linear regression    lassoCV  bayesianRidge\n",
       "0                    US          -4.620293  -3.026307      -4.492627\n",
       "1                  Freq          91.274450  90.902922      90.791529\n",
       "2  last_update_days_ago          -0.010374  -0.009876      -0.010482\n",
       "3             Web_order          18.628731  17.678163      18.743705\n",
       "4           Gender_male          -9.111366  -8.038686      -9.133198\n",
       "5        Address_is_res         -75.815354 -73.862653     -75.175295"
      ]
     },
     "execution_count": 37,
     "metadata": {},
     "output_type": "execute_result"
    }
   ],
   "source": [
    "pd.DataFrame({'features': train_X.columns, 'linear regression': linearRegression.coef_, \n",
    "              'lassoCV': lasso_cv.coef_, 'bayesianRidge': bayesianRidge.coef_})"
   ]
  },
  {
   "cell_type": "code",
   "execution_count": 38,
   "id": "d6acef97-8ebf-415d-92a8-d98dfd1927d8",
   "metadata": {},
   "outputs": [
    {
     "name": "stdout",
     "output_type": "stream",
     "text": [
      "                            OLS Regression Results                            \n",
      "==============================================================================\n",
      "Dep. Variable:               Spending   R-squared:                       0.525\n",
      "Model:                            OLS   Adj. R-squared:                  0.522\n",
      "Method:                 Least Squares   F-statistic:                     219.3\n",
      "Date:                Thu, 13 Apr 2023   Prob (F-statistic):          1.26e-188\n",
      "Time:                        20:49:41   Log-Likelihood:                -7506.3\n",
      "No. Observations:                1200   AIC:                         1.503e+04\n",
      "Df Residuals:                    1193   BIC:                         1.506e+04\n",
      "Df Model:                           6                                         \n",
      "Covariance Type:            nonrobust                                         \n",
      "========================================================================================\n",
      "                           coef    std err          t      P>|t|      [0.025      0.975]\n",
      "----------------------------------------------------------------------------------------\n",
      "Intercept               10.1763     13.543      0.751      0.453     -16.395      36.747\n",
      "US                      -4.6203      9.636     -0.479      0.632     -23.526      14.285\n",
      "Freq                    91.2744      2.809     32.490      0.000      85.763      96.786\n",
      "last_update_days_ago    -0.0104      0.003     -3.029      0.003      -0.017      -0.004\n",
      "Web_order               18.6287      7.526      2.475      0.013       3.863      33.394\n",
      "Gender_male             -9.1114      7.318     -1.245      0.213     -23.468       5.245\n",
      "Address_is_res         -75.8154      9.162     -8.275      0.000     -93.790     -57.841\n",
      "==============================================================================\n",
      "Omnibus:                      956.068   Durbin-Watson:                   1.989\n",
      "Prob(Omnibus):                  0.000   Jarque-Bera (JB):            32247.650\n",
      "Skew:                           3.402   Prob(JB):                         0.00\n",
      "Kurtosis:                      27.468   Cond. No.                     1.01e+04\n",
      "==============================================================================\n",
      "\n",
      "Notes:\n",
      "[1] Standard Errors assume that the covariance matrix of the errors is correctly specified.\n",
      "[2] The condition number is large, 1.01e+04. This might indicate that there are\n",
      "strong multicollinearity or other numerical problems.\n"
     ]
    }
   ],
   "source": [
    "# run a linear regression of Price on the remaining 11 predictors in the training set\n",
    "train_df = train_X.join(train_y)\n",
    "\n",
    "predictors = train_X.columns\n",
    "formula = 'Spending ~ ' + ' + '.join(predictors)\n",
    "\n",
    "soft_lm = sm.ols(formula=formula, data=train_df).fit()\n",
    "print(soft_lm.summary())"
   ]
  }
 ],
 "metadata": {
  "kernelspec": {
   "display_name": "Python 3 (ipykernel)",
   "language": "python",
   "name": "python3"
  },
  "language_info": {
   "codemirror_mode": {
    "name": "ipython",
    "version": 3
   },
   "file_extension": ".py",
   "mimetype": "text/x-python",
   "name": "python",
   "nbconvert_exporter": "python",
   "pygments_lexer": "ipython3",
   "version": "3.9.12"
  }
 },
 "nbformat": 4,
 "nbformat_minor": 5
}
